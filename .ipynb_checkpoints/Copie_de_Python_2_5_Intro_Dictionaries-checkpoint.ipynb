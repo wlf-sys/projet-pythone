{
 "cells": [
  {
   "cell_type": "markdown",
   "metadata": {
    "id": "GnOC-cJNPhqT"
   },
   "source": [
    "# Mission 1"
   ]
  },
  {
   "cell_type": "markdown",
   "metadata": {
    "id": "6pev7z8cPjQm"
   },
   "source": [
    "For each cell, execute the code and answer the question before moving on to the next."
   ]
  },
  {
   "cell_type": "code",
   "execution_count": null,
   "metadata": {
    "colab": {
     "base_uri": "https://localhost:8080/"
    },
    "id": "379gShMVPCPq",
    "outputId": "824cb8d4-e806-439f-f99e-cdc76f3ffee7"
   },
   "outputs": [
    {
     "name": "stdout",
     "output_type": "stream",
     "text": [
      "Gontran\n",
      "Jason\n",
      "Ayoub\n"
     ]
    }
   ],
   "source": [
    "people = {\"Gontran\": 23,\n",
    "          \"Jason\": 42,\n",
    "          \"Ayoub\": 27}\n",
    "\n",
    "\n",
    "for i in people:\n",
    "  print(i)"
   ]
  },
  {
   "cell_type": "markdown",
   "metadata": {
    "id": "vw8yuf7tQDbq"
   },
   "source": [
    "1. What does `i` correspond to?\n",
    "To answer, you must use the terms \"keys\" and \"values\"."
   ]
  },
  {
   "cell_type": "markdown",
   "metadata": {
    "id": "UR4AbpccRVQz"
   },
   "source": [
    "Answer:"
   ]
  },
  {
   "cell_type": "code",
   "execution_count": null,
   "metadata": {
    "colab": {
     "base_uri": "https://localhost:8080/"
    },
    "id": "CloGcYxOP4oO",
    "outputId": "58e7062d-c42b-48da-d68b-bf69070cd042"
   },
   "outputs": [
    {
     "name": "stdout",
     "output_type": "stream",
     "text": [
      "Gontran\n",
      "Jason\n",
      "Ayoub\n"
     ]
    }
   ],
   "source": [
    "for i in people.keys():\n",
    "  print(i)"
   ]
  },
  {
   "cell_type": "code",
   "execution_count": null,
   "metadata": {
    "colab": {
     "base_uri": "https://localhost:8080/"
    },
    "id": "BhZZfzsPQUAd",
    "outputId": "da9e840e-0630-4e52-af65-c8ab17b224f7"
   },
   "outputs": [
    {
     "name": "stdout",
     "output_type": "stream",
     "text": [
      "23\n",
      "42\n",
      "27\n"
     ]
    }
   ],
   "source": [
    "for i in people.values():\n",
    "  print(i)"
   ]
  },
  {
   "cell_type": "markdown",
   "metadata": {
    "id": "DHwSkjFHQdwS"
   },
   "source": [
    "2. What does `i` correspond to in the second last cell?  \n",
    "What does `i` in the last cell correspond to?  \n",
    "Why do you ask?"
   ]
  },
  {
   "cell_type": "markdown",
   "metadata": {
    "id": "4l2U2pjoRW5u"
   },
   "source": [
    "Answer:"
   ]
  },
  {
   "cell_type": "code",
   "execution_count": null,
   "metadata": {
    "colab": {
     "base_uri": "https://localhost:8080/"
    },
    "id": "8Mb2vDh0QXn7",
    "outputId": "4cdd38b2-ebf2-40df-e45d-7e9f1bb5e627"
   },
   "outputs": [
    {
     "name": "stdout",
     "output_type": "stream",
     "text": [
      "('Gontran', 23)\n",
      "('Jason', 42)\n",
      "('Ayoub', 27)\n"
     ]
    }
   ],
   "source": [
    "for i in people.items():\n",
    "  print(i)"
   ]
  },
  {
   "cell_type": "markdown",
   "metadata": {
    "id": "UKrfp8bCQtVn"
   },
   "source": [
    "3. What is the type of object returned here called?"
   ]
  },
  {
   "cell_type": "markdown",
   "metadata": {
    "id": "6kDQ8bFdRZRE"
   },
   "source": [
    "Answer:"
   ]
  },
  {
   "cell_type": "code",
   "execution_count": null,
   "metadata": {
    "colab": {
     "base_uri": "https://localhost:8080/"
    },
    "id": "_iYs9W16RGWp",
    "outputId": "a0c9f7e7-4fa8-4e8d-a408-67219b08c1fb"
   },
   "outputs": [
    {
     "name": "stdout",
     "output_type": "stream",
     "text": [
      "23\n",
      "42\n",
      "27\n"
     ]
    }
   ],
   "source": [
    "for i, age in people.items():\n",
    "  print(age)"
   ]
  },
  {
   "cell_type": "markdown",
   "metadata": {
    "id": "KQpdCOebRNJK"
   },
   "source": [
    "4. Here I can recover the age of the people. How could I retrieve their names?"
   ]
  },
  {
   "cell_type": "markdown",
   "metadata": {
    "id": "x8nO6JzBRalQ"
   },
   "source": [
    "Answer:"
   ]
  },
  {
   "cell_type": "markdown",
   "metadata": {
    "id": "RtvppsDKR5hb"
   },
   "source": [
    "# Mission 2\n",
    "\n"
   ]
  },
  {
   "cell_type": "code",
   "execution_count": null,
   "metadata": {
    "colab": {
     "base_uri": "https://localhost:8080/"
    },
    "id": "TcMSZ21vQbVg",
    "outputId": "50bbb7cb-5229-47f0-adba-bac54372b0c7"
   },
   "outputs": [
    {
     "name": "stdout",
     "output_type": "stream",
     "text": [
      "<class 'int'>\n",
      "<class 'int'>\n",
      "<class 'str'>\n",
      "<class 'list'>\n",
      "<class 'dict'>\n"
     ]
    }
   ],
   "source": [
    "people = {\"Gontran\": 23,\n",
    "          \"Jason\": 42,\n",
    "          \"Ayoub\": \"27\",\n",
    "          \"Léo\": [10,20,30],\n",
    "          \"Rosario\": {\"Juan\": 3,\n",
    "                      \"Camelia\": 6}}\n",
    "\n",
    "\n",
    "for i in people.values():\n",
    "  print(type(i))"
   ]
  },
  {
   "cell_type": "markdown",
   "metadata": {
    "id": "A4iiS6uISakz"
   },
   "source": [
    "1. Does the above code allow me to confirm that I can have values of different types within a dictionary?"
   ]
  },
  {
   "cell_type": "markdown",
   "metadata": {
    "id": "-0kPgxMTSt78"
   },
   "source": [
    "Answer:"
   ]
  },
  {
   "cell_type": "markdown",
   "metadata": {
    "id": "zKPh5-cSSvWU"
   },
   "source": [
    "2. Can I have keys of different types within a dictionary?\n"
   ]
  },
  {
   "cell_type": "markdown",
   "metadata": {
    "id": "-3UI-e0OS7B4"
   },
   "source": [
    "Answer:"
   ]
  },
  {
   "cell_type": "code",
   "execution_count": null,
   "metadata": {
    "colab": {
     "base_uri": "https://localhost:8080/"
    },
    "id": "kuyirBaJSUjc",
    "outputId": "9eff9e3b-b074-4fed-dace-e28cf42c32d4"
   },
   "outputs": [
    {
     "name": "stdout",
     "output_type": "stream",
     "text": [
      "<class 'int'>\n",
      "<class 'int'>\n",
      "<class 'int'>\n",
      "<class 'list'>\n",
      "<class 'dict'>\n"
     ]
    }
   ],
   "source": [
    "people[\"Ayoub\"] = int(people[\"Ayoub\"])\n",
    "\n",
    "for i in people.values():\n",
    "  print(type(i))"
   ]
  },
  {
   "cell_type": "markdown",
   "metadata": {
    "id": "kT7N2rbNTTQn"
   },
   "source": [
    "3. What did the above code allow me to do?"
   ]
  },
  {
   "cell_type": "markdown",
   "metadata": {
    "id": "wgqE52glTXCQ"
   },
   "source": [
    "Answer:"
   ]
  },
  {
   "cell_type": "markdown",
   "metadata": {
    "id": "4EqIZsMMUJGz"
   },
   "source": [
    "# Mission 3"
   ]
  },
  {
   "cell_type": "code",
   "execution_count": null,
   "metadata": {
    "colab": {
     "base_uri": "https://localhost:8080/"
    },
    "id": "5MhipD7vUJ-C",
    "outputId": "4c246a35-9d83-4d33-8cae-ccb72d191e1b"
   },
   "outputs": [
    {
     "name": "stdout",
     "output_type": "stream",
     "text": [
      "['Lam', 'Ghizlaine', 'Khaled', 'Florian']\n",
      "['Lucile', 'Mbaye', 'Cécile', 'Rohan']\n",
      "['Agathe', 'Charlotte', 'Charles', 'Maxime']\n",
      "['Gaelle', 'Linh', 'Meral']\n"
     ]
    }
   ],
   "source": [
    "groups = {\"groupe_1\": [\"Lam\", \"Ghizlaine\", \"Khaled\", \"Florian\"],\n",
    "          \"groupe_2\": [\"Lucile\", \"Mbaye\", \"Cécile\", \"Rohan\"],\n",
    "          \"groupe_3\": [\"Agathe\", \"Charlotte\", \"Charles\", \"Maxime\"],\n",
    "          \"groupe_4\": [\"Gaelle\", \"Linh\", \"Meral\"]}\n",
    "\n",
    "\n",
    "for i in groups.values():\n",
    "  print(i)"
   ]
  },
  {
   "cell_type": "markdown",
   "metadata": {
    "id": "icbZnQreUcgu"
   },
   "source": [
    "1. What is the type of each value?  \n",
    "How do I get into each list?"
   ]
  },
  {
   "cell_type": "markdown",
   "metadata": {
    "id": "Pu4q1UrAYrFT"
   },
   "source": [
    "Answer:"
   ]
  },
  {
   "cell_type": "code",
   "execution_count": null,
   "metadata": {
    "colab": {
     "base_uri": "https://localhost:8080/"
    },
    "id": "3OZb9do4UWp7",
    "outputId": "93d2057a-0a57-49ef-8f6f-4ae0d30cb971"
   },
   "outputs": [
    {
     "name": "stdout",
     "output_type": "stream",
     "text": [
      "Lam\n",
      "Ghizlaine\n",
      "Khaled\n",
      "Florian\n",
      "Lucile\n",
      "Mbaye\n",
      "Cécile\n",
      "Rohan\n",
      "Agathe\n",
      "Charlotte\n",
      "Charles\n",
      "Maxime\n",
      "Gaelle\n",
      "Linh\n",
      "Meral\n"
     ]
    }
   ],
   "source": [
    "for i in groups.values():\n",
    "  for v in i:\n",
    "    print(v)"
   ]
  },
  {
   "cell_type": "markdown",
   "metadata": {
    "id": "M31rg5ryV0Hc"
   },
   "source": [
    "2. How did I get into each list?  \n",
    "Take the time to explain your reasoning for answering this question."
   ]
  },
  {
   "cell_type": "markdown",
   "metadata": {
    "id": "F-ec2gWwYxCi"
   },
   "source": [
    "Answer:"
   ]
  },
  {
   "cell_type": "markdown",
   "metadata": {
    "id": "-uz3VPFOVxrQ"
   },
   "source": [
    "modifcation du fichier "
   ]
  },
  {
   "cell_type": "code",
   "execution_count": null,
   "metadata": {},
   "outputs": [],
   "source": []
  }
 ],
 "metadata": {
  "colab": {
   "provenance": []
  },
  "kernelspec": {
   "display_name": "Python 3 (ipykernel)",
   "language": "python",
   "name": "python3"
  },
  "language_info": {
   "codemirror_mode": {
    "name": "ipython",
    "version": 3
   },
   "file_extension": ".py",
   "mimetype": "text/x-python",
   "name": "python",
   "nbconvert_exporter": "python",
   "pygments_lexer": "ipython3",
   "version": "3.11.5"
  }
 },
 "nbformat": 4,
 "nbformat_minor": 4
}
